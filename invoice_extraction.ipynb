{
 "cells": [
  {
   "cell_type": "code",
   "execution_count": null,
   "id": "8eef86af",
   "metadata": {},
   "outputs": [],
   "source": [
    "!pip3 install PyPDF2"
   ]
  },
  {
   "cell_type": "code",
   "execution_count": 5,
   "id": "c97166ae",
   "metadata": {},
   "outputs": [],
   "source": [
    "import oci,re,json,io\n",
    "import pandas as pd\n",
    "from collections import deque\n",
    "from PyPDF2 import PdfWriter, PdfReader"
   ]
  },
  {
   "cell_type": "code",
   "execution_count": 6,
   "id": "5fd5604d",
   "metadata": {},
   "outputs": [],
   "source": [
    "\n",
    "COMPARTMENT_ID=\"<compartment_id>\"\n",
    "OP_BUCKET=\"<name_of_bucket>\"\n",
    "IN_BUCKET=\"<name_of_bucket>\"\n",
    "MID_BUCKET=\"<name_of_bucket>\"\n",
    "OP_BUCKET_PREFIX=\"<provide_any_name>\"\n",
    "\n"
   ]
  },
  {
   "cell_type": "code",
   "execution_count": 7,
   "id": "a6899a68",
   "metadata": {},
   "outputs": [],
   "source": [
    "CONFIG_FILE_PATH = \"<config_file_path>\"\n",
    "CONFIG = oci.config.from_file(CONFIG_FILE_PATH)\n",
    "OBJECT_STORAGE_CLIENT = oci.object_storage.ObjectStorageClient(CONFIG)\n",
    "OBJECT_STORAGE_COMP_CLIENT=oci.object_storage.ObjectStorageClientCompositeOperations(OBJECT_STORAGE_CLIENT)\n",
    "AIDOC_CLIENT = oci.ai_document.AIServiceDocumentClient(CONFIG)\n",
    "AIDOC_COMP_CLIENT = oci.ai_document.AIServiceDocumentClientCompositeOperations(AIDOC_CLIENT)\n",
    "NAMESPACE_NAME = OBJECT_STORAGE_CLIENT.get_namespace().data"
   ]
  },
  {
   "cell_type": "code",
   "execution_count": 9,
   "id": "6b8eb1ea",
   "metadata": {},
   "outputs": [],
   "source": [
    "def multipart_upload_obj(upload_obj_name,file,object_storage_client,namespace_name,target_bucket_name,content_type):\n",
    "    file.seek(0)\n",
    "    CHUNK_SIZE = 1024 * 1024\n",
    "    upload_id = object_storage_client.create_multipart_upload(\n",
    "        namespace_name=namespace_name,\n",
    "        bucket_name=target_bucket_name,\n",
    "        create_multipart_upload_details=oci.object_storage.models.CreateMultipartUploadDetails(\n",
    "            object=upload_obj_name,\n",
    "            content_type=content_type,\n",
    "            storage_tier = oci.object_storage.models.CreateMultipartUploadDetails.STORAGE_TIER_STANDARD\n",
    "        )).data.upload_id\n",
    "    part_number = 1\n",
    "    offset = 0\n",
    "    while True:\n",
    "        chunk = file.read(CHUNK_SIZE)            \n",
    "        if not chunk:\n",
    "            break\n",
    "        chunk_length = len(chunk)\n",
    "        upload_part_res = object_storage_client.upload_part(\n",
    "            namespace_name=namespace_name,\n",
    "            bucket_name=target_bucket_name,\n",
    "            object_name=upload_obj_name,\n",
    "            upload_part_body=chunk,\n",
    "            upload_id = upload_id,\n",
    "            upload_part_num = part_number\n",
    "        )\n",
    "\n",
    "        part_number += 1            \n",
    "        offset += chunk_length\n",
    "    parts = oci.pagination.list_call_get_all_results(object_storage_client.list_multipart_upload_parts,\n",
    "        namespace_name=namespace_name,\n",
    "        bucket_name=target_bucket_name,\n",
    "        object_name=upload_obj_name,\n",
    "        upload_id = upload_id\n",
    "    ).data\n",
    "    object_storage_client.commit_multipart_upload(\n",
    "        namespace_name=namespace_name,\n",
    "        bucket_name=target_bucket_name,\n",
    "        object_name=upload_obj_name,\n",
    "        upload_id = upload_id,\n",
    "        commit_multipart_upload_details=oci.object_storage.models.CommitMultipartUploadDetails(\n",
    "            parts_to_commit=[\n",
    "                oci.object_storage.models.CommitMultipartUploadPartDetails(part_num=x.part_number,etag=x.etag)\n",
    "                for x in parts\n",
    "            ]\n",
    "        )                \n",
    "    )"
   ]
  },
  {
   "cell_type": "code",
   "execution_count": 53,
   "id": "9103bef6",
   "metadata": {},
   "outputs": [],
   "source": [
    "def run_aidoc_extract(object_list):\n",
    "    key_value_extraction_feature = oci.ai_document.models.DocumentKeyValueExtractionFeature()\n",
    "    output_location = oci.ai_document.models.OutputLocation()\n",
    "    output_location.namespace_name = NAMESPACE_NAME\n",
    "    output_location.bucket_name = OP_BUCKET\n",
    "    output_location.prefix =  OP_BUCKET_PREFIX\n",
    "    object_locations=[oci.ai_document.models.ObjectLocation(bucket_name=MID_BUCKET,namespace_name=NAMESPACE_NAME,object_name=o.name) for o in object_list]\n",
    "    source_type=oci.ai_document.models.ObjectStorageLocations.SOURCE_TYPE_OBJECT_STORAGE_LOCATIONS\n",
    "    create_processor_job_details_text_extraction = oci.ai_document.models.CreateProcessorJobDetails(\n",
    "        compartment_id=COMPARTMENT_ID,\n",
    "        input_location=oci.ai_document.models.ObjectStorageLocations(source_type=source_type,object_locations=object_locations),\n",
    "        output_location=output_location,\n",
    "        processor_config=oci.ai_document.models.GeneralProcessorConfig(language=\"ENG\",features=[key_value_extraction_feature],document_type=\"INVOICE\")\n",
    "    )\n",
    "    \n",
    "    proc_job = AIDOC_COMP_CLIENT.create_processor_job_and_wait_for_state(\n",
    "        create_processor_job_details=create_processor_job_details_text_extraction,\n",
    "        wait_for_states=[oci.ai_document.models.ProcessorJob.LIFECYCLE_STATE_SUCCEEDED]\n",
    "    )\n",
    "    print(f\"({proc_job.data.display_name})\",proc_job.data.id)\n",
    "    return proc_job.data.id"
   ]
  },
  {
   "cell_type": "code",
   "execution_count": 80,
   "id": "1f233aef",
   "metadata": {},
   "outputs": [],
   "source": [
    "def process_json(ocid,object_list):\n",
    "    print(\"processing for\",ocid)\n",
    "    FIELDS=deque()\n",
    "    count=0\n",
    "    unprocessed=deque()\n",
    "    total = object_list.shape[0]\n",
    "    for o in object_list:      \n",
    "        get_object_response  = OBJECT_STORAGE_CLIENT.get_object(\n",
    "            namespace_name=NAMESPACE_NAME,\n",
    "            bucket_name=OP_BUCKET,\n",
    "            object_name=o\n",
    "        )\n",
    "        json_data = json.loads(str(get_object_response.data.content.decode()))\n",
    "        if(json_data[\"pages\"][0][\"words\"]!=None):\n",
    "            FIELDS.append(json_data[\"pages\"][0][\"documentFields\"])              \n",
    "        else:            \n",
    "            unprocessed.append(o)\n",
    "        count+=1\n",
    "        print(f\"\\r{count}/{total}\",end=\"\\r\")\n",
    "    print()\n",
    "    print(unprocessed)\n",
    "    print(len(unprocessed),end=\"\\n\\n\")\n",
    "    FIELDS_DF = pd.DataFrame([{d['fieldLabel']['name']:d['fieldValue']['text'] for d in x if d['fieldType']=='KEY_VALUE'} for x in FIELDS])\n",
    "    return FIELDS_DF   "
   ]
  },
  {
   "cell_type": "code",
   "execution_count": null,
   "id": "6d8e2f75",
   "metadata": {},
   "outputs": [],
   "source": [
    "#Splitting PDF\n",
    "obj_list = oci.pagination.list_call_get_all_results(OBJECT_STORAGE_CLIENT.list_objects,namespace_name=NAMESPACE_NAME, bucket_name=IN_BUCKET).data.objects\n",
    "print(obj_list)\n",
    "for o in obj_list:\n",
    "    get_object_response  = OBJECT_STORAGE_CLIENT.get_object(\n",
    "        namespace_name=NAMESPACE_NAME,\n",
    "        bucket_name=IN_BUCKET,\n",
    "        object_name=o.name\n",
    "    )\n",
    "    inputpdf = PdfReader(io.BytesIO(get_object_response.data.content))\n",
    "    print(inputpdf)\n",
    "    for i in range(len(inputpdf.pages)):\n",
    "        output = PdfWriter()\n",
    "        output.add_page(inputpdf.pages[i])\n",
    "        outputStream = io.BytesIO()\n",
    "        output.write(outputStream)        \n",
    "        output.close()\n",
    "        outputStream.seek(0)        \n",
    "        multipart_upload_obj(o.name+f\"/pg{i+1}.pdf\",outputStream,OBJECT_STORAGE_CLIENT,NAMESPACE_NAME,MID_BUCKET,content_type='application/pdf')\n",
    "        outputStream.close()\n",
    "    "
   ]
  },
  {
   "cell_type": "code",
   "execution_count": null,
   "id": "0bead386",
   "metadata": {},
   "outputs": [],
   "source": [
    "obj_list1 = oci.pagination.list_call_get_all_results(OBJECT_STORAGE_CLIENT.list_objects,namespace_name=NAMESPACE_NAME, bucket_name=MID_BUCKET).data.objects\n",
    "ocid = run_aidoc_extract(obj_list1)"
   ]
  },
  {
   "cell_type": "code",
   "execution_count": null,
   "id": "69a0a1b6",
   "metadata": {},
   "outputs": [],
   "source": [
    "obj_list2 = oci.pagination.list_call_get_all_results(OBJECT_STORAGE_CLIENT.list_objects,namespace_name=NAMESPACE_NAME, bucket_name=OP_BUCKET,prefix=OP_BUCKET_PREFIX+\"/\"+ocid).data.objects\n",
    "objs=pd.Series([o.name for o in obj_list2 if o.name[-5:]=='.json'])\n",
    "process_json(ocid,objs)  "
   ]
  }
 ],
 "metadata": {
  "kernelspec": {
   "display_name": "Python 3",
   "language": "python",
   "name": "python3"
  },
  "language_info": {
   "codemirror_mode": {
    "name": "ipython",
    "version": 3
   },
   "file_extension": ".py",
   "mimetype": "text/x-python",
   "name": "python",
   "nbconvert_exporter": "python",
   "pygments_lexer": "ipython3",
   "version": "3.9.6"
  }
 },
 "nbformat": 4,
 "nbformat_minor": 5
}
